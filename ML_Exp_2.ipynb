{
  "nbformat": 4,
  "nbformat_minor": 0,
  "metadata": {
    "colab": {
      "name": "ML Exp -2.ipynb",
      "provenance": []
    },
    "kernelspec": {
      "name": "python3",
      "display_name": "Python 3"
    },
    "language_info": {
      "name": "python"
    }
  },
  "cells": [
    {
      "cell_type": "markdown",
      "metadata": {
        "id": "PQ0CUSWSPxnP"
      },
      "source": [
        "ML EXP 2 \n",
        "\n",
        "SUBMITTED BY : Gaurav Saxena"
      ]
    },
    {
      "cell_type": "code",
      "metadata": {
        "id": "ny5YN8BqPkRq"
      },
      "source": [
        "import numpy as np"
      ],
      "execution_count": 16,
      "outputs": []
    },
    {
      "cell_type": "markdown",
      "metadata": {
        "id": "P7-PSX-GROOG"
      },
      "source": [
        "1D Array Operations"
      ]
    },
    {
      "cell_type": "code",
      "metadata": {
        "colab": {
          "base_uri": "https://localhost:8080/"
        },
        "id": "ac_VsDYWP5XD",
        "outputId": "c7f4f439-755a-45c8-b86a-55d7c6d42331"
      },
      "source": [
        "#operations on 1D array \n",
        "a = np.array([1,2,3,4,5,6,7,8,9,10])\n",
        "\n",
        "#print the dimensions of an array : It means the number of rows in the array\n",
        "print('The dimensions of the array are :' , a.ndim)\n",
        "\n",
        "#print the shape of the array : i.e. rows and colums\n",
        "print('The shape of the array is :' , a.shape)\n",
        "\n",
        "#print the data type of the array : what data type is stored in the array(int,string,float,etc)\n",
        "print('The data type of the array is : ' , a.dtype)\n"
      ],
      "execution_count": 35,
      "outputs": [
        {
          "output_type": "stream",
          "text": [
            "The dimensions of the array are : 1\n",
            "The shape of the array is : (10,)\n",
            "The data type of the array is :  int64\n"
          ],
          "name": "stdout"
        }
      ]
    },
    {
      "cell_type": "markdown",
      "metadata": {
        "id": "pMM6DD2PRKxC"
      },
      "source": [
        "2D ARRAY OPERATIONS "
      ]
    },
    {
      "cell_type": "code",
      "metadata": {
        "colab": {
          "base_uri": "https://localhost:8080/"
        },
        "id": "2Zrsy7VjRH_R",
        "outputId": "650cd924-2e4c-4256-e721-df497c9a80c8"
      },
      "source": [
        "b = np.array([[1,2,3,4,5,6],[9,10,11,12,13,14]],dtype=object)\n",
        "\n",
        "print(b)\n",
        "print(b.ndim)\n",
        "print('The shape of the array is :' ,b.shape)\n",
        "\n",
        "#reshaping the exisiting 1D array to 2D\n",
        "bb = a.reshape((5,2))\n",
        "print(bb)\n",
        "\n",
        "\n"
      ],
      "execution_count": 20,
      "outputs": [
        {
          "output_type": "stream",
          "text": [
            "[[1 2 3 4 5 6]\n",
            " [9 10 11 12 13 14]]\n",
            "2\n",
            "The shape of the array is : (2, 6)\n",
            "[[ 1  2]\n",
            " [ 3  4]\n",
            " [ 5  6]\n",
            " [ 7  8]\n",
            " [ 9 10]]\n"
          ],
          "name": "stdout"
        }
      ]
    },
    {
      "cell_type": "markdown",
      "metadata": {
        "id": "wcYWrcHlTM5w"
      },
      "source": [
        "Operations on Numpy Arrays\n"
      ]
    },
    {
      "cell_type": "code",
      "metadata": {
        "colab": {
          "base_uri": "https://localhost:8080/"
        },
        "id": "Vytxo7ylTRsM",
        "outputId": "c4fc91a6-ffdd-4fde-bc0f-918c6e1150f6"
      },
      "source": [
        "#element wise multiplication\n",
        "print(a)\n",
        "print(a*3)\n",
        "\n",
        "#element wise square\n",
        "print('=====================================')\n",
        "print(a)\n",
        "print(a**2)\n",
        "\n",
        "#multiplying the list by a number does not result in multipliying each element instead it justs add number of times the element itself in the list\n",
        "print('=====================================')\n",
        "print([1,2,3,4]*3)\n",
        "\n",
        "#if we do some changes in the original array,in this case 'a' then changes are also reflected in the reshaped array of that array\n",
        "print('=====================================')\n",
        "print(a)\n",
        "a[0] = 20\n",
        "print(bb)\n"
      ],
      "execution_count": 26,
      "outputs": [
        {
          "output_type": "stream",
          "text": [
            "[20  2  3  4  5  6  7  8  9 10]\n",
            "[60  6  9 12 15 18 21 24 27 30]\n",
            "=====================================\n",
            "[20  2  3  4  5  6  7  8  9 10]\n",
            "[400   4   9  16  25  36  49  64  81 100]\n",
            "=====================================\n",
            "[1, 2, 3, 4, 1, 2, 3, 4, 1, 2, 3, 4]\n",
            "=====================================\n",
            "[20  2  3  4  5  6  7  8  9 10]\n",
            "[[20  2]\n",
            " [ 3  4]\n",
            " [ 5  6]\n",
            " [ 7  8]\n",
            " [ 9 10]]\n"
          ],
          "name": "stdout"
        }
      ]
    },
    {
      "cell_type": "markdown",
      "metadata": {
        "id": "Xq0I4FxFUa0r"
      },
      "source": [
        "Creating a numpy array copy"
      ]
    },
    {
      "cell_type": "code",
      "metadata": {
        "colab": {
          "base_uri": "https://localhost:8080/"
        },
        "id": "zLCPznZpTRwB",
        "outputId": "2a6524e6-da57-4928-c129-0c0cb5283a34"
      },
      "source": [
        "c = a.reshape(5,2).copy()\n",
        "print(c)\n",
        "c[0][1] = 30\n",
        "c[1][0] = 45\n",
        "print(\"====\")\n",
        "print(c)\n",
        "print('=====')\n",
        "print(a)"
      ],
      "execution_count": 29,
      "outputs": [
        {
          "output_type": "stream",
          "text": [
            "[[20  2]\n",
            " [ 3  4]\n",
            " [ 5  6]\n",
            " [ 7  8]\n",
            " [ 9 10]]\n",
            "====\n",
            "[[20 30]\n",
            " [45  4]\n",
            " [ 5  6]\n",
            " [ 7  8]\n",
            " [ 9 10]]\n",
            "=====\n",
            "[20  2  3  4  5  6  7  8  9 10]\n"
          ],
          "name": "stdout"
        }
      ]
    },
    {
      "cell_type": "markdown",
      "metadata": {
        "id": "_aPJNO5DU0Te"
      },
      "source": [
        "Indexing in Numpy arrays"
      ]
    },
    {
      "cell_type": "code",
      "metadata": {
        "colab": {
          "base_uri": "https://localhost:8080/"
        },
        "id": "UhttEJ40U3ww",
        "outputId": "52edc2df-6339-4797-b525-ba027a943bf2"
      },
      "source": [
        "print(a[0])\n",
        "\n",
        "##printing multiple elements at specific index\n",
        "print(a[np.array([1,3])])\n",
        "\n",
        "#printing elements according to a specific condition\n",
        "print('Even elements in the array are' , a[a%2 == 0])\n",
        "\n",
        "#other conditions that can be\n",
        "a[a>4] = 10\n",
        "print(a)\n",
        "#gives how many elements greater than 4 and that are convertred to 10\n",
        "\n",
        "a[a==10] = 12\n",
        "print(a)"
      ],
      "execution_count": 37,
      "outputs": [
        {
          "output_type": "stream",
          "text": [
            "1\n",
            "[2 4]\n",
            "Even elements in the array are [ 2  4 10 10 10 10 10 10]\n",
            "[ 1  2  3  4 10 10 10 10 10 10]\n",
            "[ 1  2  3  4 12 12 12 12 12 12]\n"
          ],
          "name": "stdout"
        }
      ]
    },
    {
      "cell_type": "markdown",
      "metadata": {
        "id": "qKjyLmyUWGqQ"
      },
      "source": [
        "Clipping"
      ]
    },
    {
      "cell_type": "code",
      "metadata": {
        "colab": {
          "base_uri": "https://localhost:8080/"
        },
        "id": "6PDavzLWWEVT",
        "outputId": "501b5dcb-b044-44fe-f043-5db7fabab8c8"
      },
      "source": [
        "f = np.array([1,2,4,5,2,8])\n",
        "d = f.copy()\n",
        "print(d)\n",
        "\n",
        "print(d.clip(3,5)) \n",
        "#elements  less than 3 are made 3 and those greater than 5 are made 5"
      ],
      "execution_count": 40,
      "outputs": [
        {
          "output_type": "stream",
          "text": [
            "[1 2 4 5 2 8]\n",
            "[3 3 4 5 3 5]\n"
          ],
          "name": "stdout"
        }
      ]
    }
  ]
}