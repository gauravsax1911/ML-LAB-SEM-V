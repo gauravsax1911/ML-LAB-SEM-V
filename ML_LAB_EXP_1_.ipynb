{
  "nbformat": 4,
  "nbformat_minor": 0,
  "metadata": {
    "colab": {
      "name": "ML LAB EXP -1 .ipynb",
      "provenance": [],
      "authorship_tag": "ABX9TyPdWgulatw6nuuOMlzKb+5N",
      "include_colab_link": true
    },
    "kernelspec": {
      "name": "python3",
      "display_name": "Python 3"
    },
    "language_info": {
      "name": "python"
    }
  },
  "cells": [
    {
      "cell_type": "markdown",
      "metadata": {
        "id": "view-in-github",
        "colab_type": "text"
      },
      "source": [
        "<a href=\"https://colab.research.google.com/github/gauravsax1911/ML-LAB-SEM-V/blob/main/ML_LAB_EXP_1_.ipynb\" target=\"_parent\"><img src=\"https://colab.research.google.com/assets/colab-badge.svg\" alt=\"Open In Colab\"/></a>"
      ]
    },
    {
      "cell_type": "markdown",
      "metadata": {
        "id": "NpM5qC1WO_1g"
      },
      "source": [
        "ML LAB EXPERIMENT NO : 1 \n",
        "\n",
        "Submitted by : Gaurav Saxena 2K19/EC/059"
      ]
    },
    {
      "cell_type": "markdown",
      "metadata": {
        "id": "hvVBcrQhPSBp"
      },
      "source": [
        "# Q1 Write a program to add two numbers to illustrate the use of print statement"
      ]
    },
    {
      "cell_type": "code",
      "metadata": {
        "colab": {
          "base_uri": "https://localhost:8080/"
        },
        "id": "bDDKdZnvG-FC",
        "outputId": "05ecea2f-eaed-40a0-e9ad-53d1813dabf6"
      },
      "source": [
        "a = 5\n",
        "b = 6\n",
        "sum = 6 + 5\n",
        "print(sum)\n"
      ],
      "execution_count": null,
      "outputs": [
        {
          "output_type": "stream",
          "text": [
            "11\n"
          ],
          "name": "stdout"
        }
      ]
    },
    {
      "cell_type": "code",
      "metadata": {
        "colab": {
          "base_uri": "https://localhost:8080/"
        },
        "id": "m72tPRhTP0xu",
        "outputId": "21b32ebb-bb85-4986-9fda-1740d8f57827"
      },
      "source": [
        "a = 5.545\n",
        "B = 94.3432\n",
        "sum = a + B\n",
        "print(sum)"
      ],
      "execution_count": null,
      "outputs": [
        {
          "output_type": "stream",
          "text": [
            "99.8882\n"
          ],
          "name": "stdout"
        }
      ]
    },
    {
      "cell_type": "markdown",
      "metadata": {
        "id": "Chu0pSMnQLxx"
      },
      "source": [
        "## Q2 Write a program to illustrate the use of conditional statements by checking if the input number is odd or even "
      ]
    },
    {
      "cell_type": "code",
      "metadata": {
        "colab": {
          "base_uri": "https://localhost:8080/"
        },
        "id": "3AJ-8xBsQfsV",
        "outputId": "465e0ba1-1c85-442c-de1c-b22365f515cc"
      },
      "source": [
        "num = int(input('Enter a number'))\n",
        "if(num % 2) == 0:\n",
        "   print(\"NUMBER IS EVEN\")\n",
        "else:\n",
        "   print(\"NUMBER IS ODD\")\n"
      ],
      "execution_count": null,
      "outputs": [
        {
          "output_type": "stream",
          "text": [
            "Enter a number8\n",
            "NUMBER IS EVEN\n"
          ],
          "name": "stdout"
        }
      ]
    },
    {
      "cell_type": "markdown",
      "metadata": {
        "id": "Dl-DbaipReKD"
      },
      "source": [
        "# Q3 Write a program to illustrate the use of functions"
      ]
    },
    {
      "cell_type": "code",
      "metadata": {
        "colab": {
          "base_uri": "https://localhost:8080/"
        },
        "id": "yWfhGRx7RtUw",
        "outputId": "dee0458d-bb99-4302-b5dc-51e42dc9eb72"
      },
      "source": [
        "def changeme(mylist):\n",
        "  #This changes a passed list into the function\n",
        "  mylist = [1,2,3,4] #This would assign a new reference to mylist\n",
        "  print(\"values inside the function: \" , mylist)\n",
        "  return \n",
        "\n",
        "#Now we can call the changeme function\n",
        "mylist = [10,20,30]\n",
        "changeme(mylist)\n",
        "print(\"values outside the function \" , mylist)"
      ],
      "execution_count": null,
      "outputs": [
        {
          "output_type": "stream",
          "text": [
            "values inside the function:  [1, 2, 3, 4]\n",
            "values outside the function  [10, 20, 30]\n"
          ],
          "name": "stdout"
        }
      ]
    },
    {
      "cell_type": "markdown",
      "metadata": {
        "id": "p9xJpQHVS4W-"
      },
      "source": [
        "## Q4 Write a program to access values in a dictionary"
      ]
    },
    {
      "cell_type": "code",
      "metadata": {
        "colab": {
          "base_uri": "https://localhost:8080/"
        },
        "id": "lG4MJ8xiQfdX",
        "outputId": "511bd7cd-5361-40ec-842f-db8a2fa5e206"
      },
      "source": [
        "dict = {'Name' : 'Gaurav' , 'Age':20 , 'Year' : 'B.tech 3rd year'}\n",
        "print(\"Name\" , dict['Name'])\n",
        "print(\"Age\" , dict['Age'])\n",
        "print(\"Year of Study-->\" , dict['Year'])"
      ],
      "execution_count": null,
      "outputs": [
        {
          "output_type": "stream",
          "text": [
            "Name Gaurav\n",
            "Age 20\n",
            "Year of Study--> B.tech 3rd year\n"
          ],
          "name": "stdout"
        }
      ]
    },
    {
      "cell_type": "markdown",
      "metadata": {
        "id": "t3A3OW5uU-2X"
      },
      "source": [
        "# Q5 Write a program to perform various string operations"
      ]
    },
    {
      "cell_type": "code",
      "metadata": {
        "colab": {
          "base_uri": "https://localhost:8080/"
        },
        "id": "XqHhFrxQQdT3",
        "outputId": "3e4296d8-3b8c-4cef-dc35-4467ffac82eb"
      },
      "source": [
        "str1 = input(\"Enter string 1 :\")\n",
        "str2 = input(\"Enter string 2 : \")\n",
        "# Taking the input of string 1 and 2\n",
        "str3 = str1 + str2 #Concatenation of two strings\n",
        "\n",
        "print(str3)\n",
        "\n",
        "print(str3.lower())  #Print all the characters in lower case\n",
        "print(str3.upper())  #Print all the characters in upper case \n",
        "\n",
        "print(type(str3))\n",
        "\n",
        "fruit = \"banana\"\n",
        "pos = fruit.find('na')   #Finds the position where \"na\" occurs\n",
        "\n",
        "print(pos)\n",
        "\n",
        "greet = \"HELLO BOB\"\n",
        "str4 = greet.replace('BOB', 'JOHN')\n",
        "print(str4)\n",
        "\n",
        "\n",
        "\n",
        "\n"
      ],
      "execution_count": null,
      "outputs": [
        {
          "output_type": "stream",
          "text": [
            "Enter string 1 :HELLO \n",
            "Enter string 2 : world\n",
            "HELLO world\n",
            "hello world\n",
            "HELLO WORLD\n",
            "<class 'str'>\n",
            "2\n",
            "HELLO JOHN\n"
          ],
          "name": "stdout"
        }
      ]
    },
    {
      "cell_type": "markdown",
      "metadata": {
        "id": "ZxIhfy2FPLfa"
      },
      "source": [
        ""
      ]
    }
  ]
}